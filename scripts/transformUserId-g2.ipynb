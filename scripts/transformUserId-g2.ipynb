{
	"metadata": {
		"kernelspec": {
			"name": "glue_pyspark",
			"display_name": "Glue PySpark",
			"language": "python"
		},
		"language_info": {
			"name": "Python_Glue_Session",
			"mimetype": "text/x-python",
			"codemirror_mode": {
				"name": "python",
				"version": 3
			},
			"pygments_lexer": "python3",
			"file_extension": ".py"
		}
	},
	"nbformat_minor": 4,
	"nbformat": 4,
	"cells": [
		{
			"cell_type": "markdown",
			"source": "# AWS Glue Studio Notebook\n##### You are now running a AWS Glue Studio notebook; To start using your notebook you need to start an AWS Glue Interactive Session.\n",
			"metadata": {
				"editable": true,
				"trusted": true
			}
		},
		{
			"cell_type": "markdown",
			"source": "####  Run this cell to set up and start your interactive session.\n",
			"metadata": {
				"editable": true,
				"trusted": true
			}
		},
		{
			"cell_type": "code",
			"source": "%idle_timeout 2880\n%glue_version 3.0\n%worker_type G.1X\n%number_of_workers 5\n\nimport sys\nfrom awsglue.transforms import *\nfrom awsglue.utils import getResolvedOptions\nfrom pyspark.context import SparkContext\nfrom awsglue.context import GlueContext\nfrom awsglue.job import Job\n  \nsc = SparkContext.getOrCreate()\nglueContext = GlueContext(sc)\nspark = glueContext.spark_session\njob = Job(glueContext)",
			"metadata": {
				"editable": true,
				"trusted": true
			},
			"execution_count": 1,
			"outputs": [
				{
					"name": "stdout",
					"text": "Welcome to the Glue Interactive Sessions Kernel\nFor more information on available magic commands, please type %help in any new cell.\n\nPlease view our Getting Started page to access the most up-to-date information on the Interactive Sessions kernel: https://docs.aws.amazon.com/glue/latest/dg/interactive-sessions.html\nInstalled kernel version: 0.37.0 \nCurrent idle_timeout is 2880 minutes.\nidle_timeout has been set to 2880 minutes.\nSetting Glue version to: 3.0\nPrevious worker type: G.1X\nSetting new worker type to: G.1X\nPrevious number of workers: 5\nSetting new number of workers to: 5\nAuthenticating with environment variables and user-defined glue_role_arn: arn:aws:iam::114652167878:role/AWSGlueAndS3RoleGrupo2\nTrying to create a Glue session for the kernel.\nWorker Type: G.1X\nNumber of Workers: 5\nSession ID: 587d5774-2f5a-46f6-8ea3-4003b9c5be2a\nJob Type: glueetl\nApplying the following default arguments:\n--glue_kernel_version 0.37.0\n--enable-glue-datacatalog true\nWaiting for session 587d5774-2f5a-46f6-8ea3-4003b9c5be2a to get into ready status...\nSession 587d5774-2f5a-46f6-8ea3-4003b9c5be2a has been created.\n\n",
					"output_type": "stream"
				}
			]
		},
		{
			"cell_type": "code",
			"source": "s3_path = 's3://pfinal-p2-grupo2/raw/userid-profile.tsv'",
			"metadata": {
				"editable": true,
				"trusted": true
			},
			"execution_count": 2,
			"outputs": [
				{
					"name": "stdout",
					"text": "\n",
					"output_type": "stream"
				}
			]
		},
		{
			"cell_type": "code",
			"source": "import pandas as pd\n\n# Crear DynamicFrame a partir del archivo TSV en S3\ndf = pd.read_csv(s3_path, delimiter=\"\\t\")\ndf",
			"metadata": {
				"editable": true,
				"trusted": true
			},
			"execution_count": 3,
			"outputs": [
				{
					"name": "stdout",
					"text": "             #id gender   age         country    registered\n0    user_000001      m   NaN           Japan  Aug 13, 2006\n1    user_000002      f   NaN            Peru  Feb 24, 2006\n2    user_000003      m  22.0   United States  Oct 30, 2005\n3    user_000004      f   NaN             NaN  Apr 26, 2006\n4    user_000005      m   NaN        Bulgaria  Jun 29, 2006\n..           ...    ...   ...             ...           ...\n987  user_000996      f   NaN   United States  Jul 17, 2006\n988  user_000997      m   NaN   United States   Jan 5, 2007\n989  user_000998      m   NaN  United Kingdom  Sep 28, 2005\n990  user_000999      f   NaN          Poland  Jul 24, 2007\n991  user_001000      m   NaN   United States  Mar 24, 2007\n\n[992 rows x 5 columns]\n",
					"output_type": "stream"
				}
			]
		},
		{
			"cell_type": "code",
			"source": "removedCols = ['gender', 'age']\ndf = df[df.columns.difference(removedCols)]\ndf.head()",
			"metadata": {
				"editable": true,
				"trusted": true
			},
			"execution_count": 4,
			"outputs": [
				{
					"name": "stdout",
					"text": "           #id        country    registered\n0  user_000001          Japan  Aug 13, 2006\n1  user_000002           Peru  Feb 24, 2006\n2  user_000003  United States  Oct 30, 2005\n3  user_000004            NaN  Apr 26, 2006\n4  user_000005       Bulgaria  Jun 29, 2006\n",
					"output_type": "stream"
				}
			]
		},
		{
			"cell_type": "code",
			"source": "df.columns",
			"metadata": {
				"editable": true,
				"trusted": true
			},
			"execution_count": 5,
			"outputs": [
				{
					"name": "stdout",
					"text": "Index(['#id', 'country', 'registered'], dtype='object')\n",
					"output_type": "stream"
				}
			]
		},
		{
			"cell_type": "code",
			"source": "df.count()",
			"metadata": {
				"editable": true,
				"trusted": true
			},
			"execution_count": 6,
			"outputs": [
				{
					"name": "stdout",
					"text": "#id           992\ncountry       907\nregistered    984\ndtype: int64\n",
					"output_type": "stream"
				}
			]
		},
		{
			"cell_type": "code",
			"source": "# Borramos filas con valores nulos\ndf = df.dropna()\ndf.count()",
			"metadata": {
				"editable": true,
				"trusted": true
			},
			"execution_count": 7,
			"outputs": [
				{
					"name": "stdout",
					"text": "#id           907\ncountry       907\nregistered    907\ndtype: int64\n",
					"output_type": "stream"
				}
			]
		},
		{
			"cell_type": "code",
			"source": "# conversion a fecha y hora\ndf['registered'] = pd.to_datetime(df['registered'], format='%b %d, %Y')",
			"metadata": {
				"editable": true,
				"trusted": true
			},
			"execution_count": 8,
			"outputs": [
				{
					"name": "stdout",
					"text": "\n",
					"output_type": "stream"
				}
			]
		},
		{
			"cell_type": "code",
			"source": "df['date'] = df['registered'].dt.strftime(\"%m%d\")\ndf['registered'] = df['registered'].dt.strftime('%Y-%m-%d')\ndf.head()",
			"metadata": {
				"editable": true,
				"trusted": true
			},
			"execution_count": 9,
			"outputs": [
				{
					"name": "stdout",
					"text": "           #id             country  registered  date\n0  user_000001               Japan  2006-08-13  0813\n1  user_000002                Peru  2006-02-24  0224\n2  user_000003       United States  2005-10-30  1030\n4  user_000005            Bulgaria  2006-06-29  0629\n5  user_000006  Russian Federation  2006-05-18  0518\n",
					"output_type": "stream"
				}
			]
		},
		{
			"cell_type": "code",
			"source": "print(df.loc[df['#id'] == 'user_000224'])",
			"metadata": {
				"trusted": true
			},
			"execution_count": 19,
			"outputs": [
				{
					"name": "stdout",
					"text": "             #id                                country  registered  date\n223  user_000224  Congo, the Democratic Republic of the  2006-01-15  0115\n",
					"output_type": "stream"
				}
			]
		},
		{
			"cell_type": "code",
			"source": "if 'Congo, the Democratic Republic of the' in df['country'].values:\n    df.loc[df['country'] == 'Congo, the Democratic Republic of the', 'country'] = 'Congo'\n    print(df.loc[df['#id'] == 'user_000224'])\nif \"Korea, Democratic People's Republic of\" in df['country'].values:\n    df.loc[df['country'] == \"Korea, Democratic People's Republic of\", 'country'] = 'Democratic Republic of Korea'\n    print(df.loc[df['#id'] == 'user_000214'])",
			"metadata": {
				"trusted": true
			},
			"execution_count": 26,
			"outputs": [
				{
					"name": "stdout",
					"text": "             #id                       country  registered  date\n213  user_000214  Democratic Republic of Korea  2007-02-04  0204\n",
					"output_type": "stream"
				}
			]
		},
		{
			"cell_type": "code",
			"source": "# ordenamos por fecha ascendente\ndf = df.sort_values(by='registered', ascending=False)\ndf.head()",
			"metadata": {
				"editable": true,
				"trusted": true
			},
			"execution_count": 10,
			"outputs": [
				{
					"name": "stdout",
					"text": "             #id        country  registered  date\n526  user_000533          Japan  2009-11-05  1105\n490  user_000497  United States  2008-02-16  0216\n864  user_000872         Brazil  2008-01-31  0131\n644  user_000651  United States  2007-12-17  1217\n643  user_000650  United States  2007-12-16  1216\n",
					"output_type": "stream"
				}
			]
		},
		{
			"cell_type": "code",
			"source": "# fecha a estandar ingles sin año \ndf.to_csv('s3://pfinal-p2-grupo2/curated/userid-profile.csv', index = False)",
			"metadata": {
				"editable": true,
				"trusted": true
			},
			"execution_count": 11,
			"outputs": [
				{
					"name": "stdout",
					"text": "\n",
					"output_type": "stream"
				}
			]
		},
		{
			"cell_type": "code",
			"source": "s3_dest_path = 's3://pfinal-p2-grupo2/refined/userid-profile/'\ndf.to_parquet(s3_dest_path, partition_cols=['country'])",
			"metadata": {
				"trusted": true
			},
			"execution_count": 16,
			"outputs": [
				{
					"name": "stdout",
					"text": "\n",
					"output_type": "stream"
				}
			]
		}
	]
}